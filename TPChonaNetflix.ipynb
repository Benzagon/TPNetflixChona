{
  "nbformat": 4,
  "nbformat_minor": 0,
  "metadata": {
    "colab": {
      "provenance": [],
      "collapsed_sections": [
        "aNa7PQNajzaY",
        "n-QS_naBa5aR",
        "RnwRq95XbDBz",
        "KpIMi5-1Ef3k",
        "pqi0y4OEH6Yj",
        "cqtXYOp1mkER",
        "lpQkRmDmofjv",
        "LYqLHzgp4m6n",
        "ns1yTSKd0ACJ",
        "b0aucLLk0zue",
        "cEM0NCAB4BoS",
        "2_PR59422lh1",
        "l6d5fQIv257p",
        "c86MKwRI4Wzu",
        "1qBE-SvV8tWW",
        "9-2Y3isHVECo",
        "whHuCy_p9-3I",
        "De6eVK5vX_ih",
        "6dhz9YInid3_",
        "qiIPp2KSiiNf",
        "aXnG7qlG5k3b",
        "lLcowo327qDC",
        "bYRHuXpNcd0H"
      ],
      "include_colab_link": true
    },
    "kernelspec": {
      "name": "python3",
      "display_name": "Python 3"
    },
    "language_info": {
      "name": "python"
    },
    "gpuClass": "standard",
    "accelerator": "GPU"
  },
  "cells": [
    {
      "cell_type": "markdown",
      "metadata": {
        "id": "view-in-github",
        "colab_type": "text"
      },
      "source": [
        "<a href=\"https://colab.research.google.com/github/Benzagon/TPNetflixChona/blob/main/TPChonaNetflix.ipynb\" target=\"_parent\"><img src=\"https://colab.research.google.com/assets/colab-badge.svg\" alt=\"Open In Colab\"/></a>"
      ]
    },
    {
      "cell_type": "markdown",
      "source": [
        "##***TP Netflix***"
      ],
      "metadata": {
        "id": "QdXVcemOaz4e"
      }
    },
    {
      "cell_type": "markdown",
      "source": [
        "##**Setup**"
      ],
      "metadata": {
        "id": "aNa7PQNajzaY"
      }
    },
    {
      "cell_type": "markdown",
      "source": [
        "###Import Pandas and Mount Drive"
      ],
      "metadata": {
        "id": "n-QS_naBa5aR"
      }
    },
    {
      "cell_type": "code",
      "execution_count": 1,
      "metadata": {
        "id": "bOm4L_SZAAAu"
      },
      "outputs": [],
      "source": [
        "import pandas as pd"
      ]
    },
    {
      "cell_type": "code",
      "source": [
        "from google.colab import drive  #Montamos a drive para poder compartir y mover el dataframe facilmente\n",
        "drive.mount('/content/drive')"
      ],
      "metadata": {
        "colab": {
          "base_uri": "https://localhost:8080/"
        },
        "id": "kP9nIwLhBK3Q",
        "outputId": "26b750d1-c369-42d3-d4ad-883b8ab28d25"
      },
      "execution_count": 2,
      "outputs": [
        {
          "output_type": "stream",
          "name": "stdout",
          "text": [
            "Mounted at /content/drive\n"
          ]
        }
      ]
    },
    {
      "cell_type": "markdown",
      "source": [
        "###Leer DataFrame y eliminar datos no deseados"
      ],
      "metadata": {
        "id": "RnwRq95XbDBz"
      }
    },
    {
      "cell_type": "code",
      "source": [
        "df = pd.read_csv ('/content/drive/MyDrive/NetflixHistory.csv')  #Leemos el df"
      ],
      "metadata": {
        "id": "DzaEZLaRBh9C"
      },
      "execution_count": 3,
      "outputs": []
    },
    {
      "cell_type": "code",
      "source": [
        "#Función para quitar dispositivos no deseados\n",
        "def removeDisps(disp):\n",
        "  ignoreDisps = ['Sony PS4', 'Netflix Windows App - Cadmium Windows Mobile', 'Apple iPhone 6s', 'Apple iPhone 7 Plus (CDMA)', 'Chrome PC (Cadmium)', 'Samsung 2015 NT14M DTV Smart TV', 'iPhone 5S GSM', 'Google Chromecast V3 Streaming Stick']\n",
        "  if disp in ignoreDisps:\n",
        "    return False\n",
        "  return True"
      ],
      "metadata": {
        "id": "WeRE5DBCAonE"
      },
      "execution_count": 4,
      "outputs": []
    },
    {
      "cell_type": "code",
      "source": [
        "df = df[df[\"Device Type\"].apply(removeDisps)] #Aplicamos la función"
      ],
      "metadata": {
        "id": "iOxX25vlAFk1"
      },
      "execution_count": 5,
      "outputs": []
    },
    {
      "cell_type": "code",
      "source": [
        "df[\"Device Type\"].unique()  #Verificamos"
      ],
      "metadata": {
        "colab": {
          "base_uri": "https://localhost:8080/"
        },
        "id": "mIo8SF0xEKc9",
        "outputId": "596a7be1-67be-4e01-d04f-939ca98733bd"
      },
      "execution_count": 6,
      "outputs": [
        {
          "output_type": "execute_result",
          "data": {
            "text/plain": [
              "array(['Apple Apple TV 4 Apple TV', 'Safari MAC (Cadmium)',\n",
              "       'LG 2016 LG M16 STD RGBW UHD TV Smart TV', 'Apple iPhone 13 Mini',\n",
              "       'Apple TV 3 (revised)', 'Apple iPhone 11 Pro',\n",
              "       'Netflix Chrome MAC (Cadmium) HTML 5',\n",
              "       'Android DefaultWidevineL3Tablet Android Tablet',\n",
              "       'LG 2016 MStar M2 Low DTV Smart TV',\n",
              "       'LG 2017 LG M16p Standard UHD TV Smart TV',\n",
              "       'Apple iPad 3rd Gen (Wi-Fi Only) iPad', 'Wii Bowser',\n",
              "       'Apple iPod Touch 5G', 'Apple iPad 3', 'Apple iPhone 4S'],\n",
              "      dtype=object)"
            ]
          },
          "metadata": {},
          "execution_count": 6
        }
      ]
    },
    {
      "cell_type": "markdown",
      "source": [
        "##**Ejercicio A**"
      ],
      "metadata": {
        "id": "KpIMi5-1Ef3k"
      }
    },
    {
      "cell_type": "code",
      "source": [
        "dispositivosUsados = df[\"Device Type\"].value_counts() #Contamos los valores de la columna\n",
        "disp_mas_usado = dispositivosUsados.index[0]"
      ],
      "metadata": {
        "id": "Apz7kx_mEm-o"
      },
      "execution_count": 7,
      "outputs": []
    },
    {
      "cell_type": "code",
      "source": [
        "print(\"El dispositivo que más veces se usó fue: '\" , disp_mas_usado , \"' |\" , dispositivosUsados.max() , \" veces\")"
      ],
      "metadata": {
        "colab": {
          "base_uri": "https://localhost:8080/"
        },
        "id": "Ge1ewDNYFyzS",
        "outputId": "cbc713af-62a5-41aa-985f-19aee2eae776"
      },
      "execution_count": 8,
      "outputs": [
        {
          "output_type": "stream",
          "name": "stdout",
          "text": [
            "El dispositivo que más veces se usó fue: ' Apple Apple TV 4 Apple TV ' | 3519  veces\n"
          ]
        }
      ]
    },
    {
      "cell_type": "markdown",
      "source": [
        "##**Ejercicio B**"
      ],
      "metadata": {
        "id": "pqi0y4OEH6Yj"
      }
    },
    {
      "cell_type": "markdown",
      "source": [
        "###Mostrar película con más ocurrencias"
      ],
      "metadata": {
        "id": "cqtXYOp1mkER"
      }
    },
    {
      "cell_type": "code",
      "source": [
        "def isMovie(title): #Creamos una función para ver si un título es una pelicula\n",
        "  #Fijarse si es una previsualización o trailer\n",
        "  if \"hook_primary\" in title or \"(Tráiler)\" in title:\n",
        "    return False\n",
        "\n",
        "  #Nos fijamos cuantas veces aparece \":\" en el titulo\n",
        "  cantDosPuntos = 0\n",
        "  for char in title:\n",
        "    if char == \":\":\n",
        "      cantDosPuntos+=1\n",
        "\n",
        "  #Si aparece 2 o mas veces es una serie\n",
        "  if cantDosPuntos >= 2:\n",
        "    return False\n",
        "  return True"
      ],
      "metadata": {
        "id": "cP1iFA3iI-Nm"
      },
      "execution_count": 9,
      "outputs": []
    },
    {
      "cell_type": "code",
      "source": [
        "#Aplicamos nuestra función a todos los elementos del dataFrame\n",
        "dfPelis = df[df[\"Title\"].apply(isMovie)]"
      ],
      "metadata": {
        "id": "2gaW3SeaJSML"
      },
      "execution_count": 10,
      "outputs": []
    },
    {
      "cell_type": "code",
      "source": [
        "#Visualizamos las peliculas para ver cuales son las más vistas\n",
        "dfPelis[\"Title\"].value_counts()"
      ],
      "metadata": {
        "colab": {
          "base_uri": "https://localhost:8080/"
        },
        "id": "QOWlyRhOnfcA",
        "outputId": "6a67b6f0-8196-4558-9657-5ebeed2ca56c"
      },
      "execution_count": 11,
      "outputs": [
        {
          "output_type": "execute_result",
          "data": {
            "text/plain": [
              "Star Wars: El Imperio contraataca          7\n",
              "El código enigma                           7\n",
              "¿Qué pasó ayer?                            6\n",
              "007 Operación Skyfall                      6\n",
              "Star Wars: El regreso del Jedi             5\n",
              "                                          ..\n",
              "Una noche loca                             1\n",
              "American Pie 2: Tu segunda vez             1\n",
              "Jugando por amor                           1\n",
              "Star Wars: La venganza de los Sith         1\n",
              "Mighty Morphin Power Rangers: The Movie    1\n",
              "Name: Title, Length: 210, dtype: int64"
            ]
          },
          "metadata": {},
          "execution_count": 11
        }
      ]
    },
    {
      "cell_type": "code",
      "source": [
        "ocurrPelisVistas = dfPelis[\"Title\"].value_counts() #Guardamos las ocurrencias en una variable\n",
        "peliMasVista = ocurrPelisVistas.index[0] #Guardamos el index de la peli en la primer posición"
      ],
      "metadata": {
        "id": "vRrQiYlcnIk9"
      },
      "execution_count": 12,
      "outputs": []
    },
    {
      "cell_type": "code",
      "source": [
        "print(\"Película con más ocurrencias: '\" , peliMasVista , \"' |\" , ocurrPelisVistas.max() , \" veces\") #Printeamos la respuesta"
      ],
      "metadata": {
        "colab": {
          "base_uri": "https://localhost:8080/"
        },
        "id": "YCev685OnKTD",
        "outputId": "caccd321-e753-4190-ec63-63fab73ae548"
      },
      "execution_count": 13,
      "outputs": [
        {
          "output_type": "stream",
          "name": "stdout",
          "text": [
            "Película con más ocurrencias: ' Star Wars: El Imperio contraataca ' | 7  veces\n"
          ]
        }
      ]
    },
    {
      "cell_type": "markdown",
      "source": [
        "###Mostrar Película con Mayor Duración Total"
      ],
      "metadata": {
        "id": "lpQkRmDmofjv"
      }
    },
    {
      "cell_type": "code",
      "source": [
        "#Funcion para pasar duraciones a segundos\n",
        "def durationToSeconds(duration):\n",
        "  durInSeconds = 0\n",
        "\n",
        "  #Pasamos horas a segundos\n",
        "  horas = duration[0] + duration[1]\n",
        "  durInSeconds += int(horas) * 3600\n",
        "\n",
        "  #Pasamos minutos a segundos\n",
        "  minutes = duration[3] + duration[4]\n",
        "  durInSeconds += int(minutes) * 60\n",
        "\n",
        "  #Sumamos los segundos\n",
        "  segundos = duration[6] + duration[7]\n",
        "  durInSeconds += int(segundos)\n",
        "\n",
        "  return durInSeconds"
      ],
      "metadata": {
        "id": "FLMyQxvhpOLu"
      },
      "execution_count": 14,
      "outputs": []
    },
    {
      "cell_type": "code",
      "source": [
        "allTitles = dfPelis[\"Title\"] #Guardamos todos los títulos en una variable"
      ],
      "metadata": {
        "id": "p-YnRB31aIdx"
      },
      "execution_count": 15,
      "outputs": []
    },
    {
      "cell_type": "code",
      "source": [
        "dfPelis.set_index(\"Title\", inplace = True)  #Seteamos el index del df al \"Title\" "
      ],
      "metadata": {
        "id": "4o-g_EMRafc-"
      },
      "execution_count": 16,
      "outputs": []
    },
    {
      "cell_type": "code",
      "source": [
        "titleDuration = {}  #Creamos un diccionario para guardar title : duration\n",
        "\n",
        "for title in allTitles: #Llenamos el diccionario con los títulos como keys\n",
        "  titleDuration[title] = 0  #Les ponemos a todos duración en 0"
      ],
      "metadata": {
        "id": "x9j_5H_iujTf"
      },
      "execution_count": 17,
      "outputs": []
    },
    {
      "cell_type": "code",
      "source": [
        "#Agregamos todas las duraciones sumadas, en segundos a nuestro diccionario\n",
        "\n",
        "for title in allTitles.unique():  #Por cada uno de los títulos unicos del df\n",
        "  durTotal = 0 \n",
        "  oddDuration = \"\"      \n",
        "  \n",
        "  for duration in dfPelis.loc[title, \"Duration\"]: #Tomando el Título como índice, buscamos las duraciones\n",
        "     \n",
        "     if len(duration) != 8:     #Sí no encontramos una duracion completa\n",
        "       oddDuration += duration  #Sumamos el char a oddDuration\n",
        "\n",
        "       if len(oddDuration) == 8: #Una vez que oddDuration cumple con el formato\n",
        "         durTotal += durationToSeconds(oddDuration) \n",
        "         oddDuration = \"\" \n",
        "         titleDuration[title] = durTotal  \n",
        "\n",
        "     else: #Si ya contamos con una duracion completa\n",
        "       durTotal += durationToSeconds(duration) \n",
        "       titleDuration[title] = durTotal "
      ],
      "metadata": {
        "id": "nrdJnI5ea24w"
      },
      "execution_count": 18,
      "outputs": []
    },
    {
      "cell_type": "code",
      "source": [
        "#Ordenamos el diccionario de titleDuration de mayor duracion a menor\n",
        "sorted_durs = sorted(titleDuration.items(), key=lambda x: x[1], reverse=True)"
      ],
      "metadata": {
        "id": "rzyT6XPPc0rH"
      },
      "execution_count": 19,
      "outputs": []
    },
    {
      "cell_type": "code",
      "source": [
        "print(\"La película con mayor duración total es: \" , sorted_durs[0] , \"segundos\")"
      ],
      "metadata": {
        "colab": {
          "base_uri": "https://localhost:8080/"
        },
        "id": "gtPaUCd3ytDZ",
        "outputId": "d1a21649-417c-43b9-fb6d-be523d0be633"
      },
      "execution_count": 20,
      "outputs": [
        {
          "output_type": "stream",
          "name": "stdout",
          "text": [
            "La película con mayor duración total es:  ('Star Wars: El Imperio contraataca', 29433) segundos\n"
          ]
        }
      ]
    },
    {
      "cell_type": "markdown",
      "source": [
        "##**Ejercicio C**"
      ],
      "metadata": {
        "id": "LYqLHzgp4m6n"
      }
    },
    {
      "cell_type": "markdown",
      "source": [
        "###Filtrar Las Series del DF"
      ],
      "metadata": {
        "id": "ns1yTSKd0ACJ"
      }
    },
    {
      "cell_type": "code",
      "source": [
        "#Reciclamos el código de antes :P\n",
        "def isSerie(title):\n",
        "  #Fijarse si es una previsualización o trailer\n",
        "  if \"hook_primary\" in title or \"(Tráiler)\" in title:\n",
        "    return False\n",
        "\n",
        "  #Nos fijamos cuantas veces aparece \":\" en el titulo\n",
        "  cantDosPuntos = 0\n",
        "  for char in title:\n",
        "    if char == \":\":\n",
        "      cantDosPuntos+=1\n",
        "\n",
        "  #Si aparece 2 o mas veces es una serie\n",
        "  if cantDosPuntos >= 2:\n",
        "    return True\n",
        "  return False"
      ],
      "metadata": {
        "id": "exFuQ3xC4rkZ"
      },
      "execution_count": 21,
      "outputs": []
    },
    {
      "cell_type": "code",
      "source": [
        "#Aplicamos nuestra función a todos los elementos del dataFrame\n",
        "dfSeries = df[df[\"Title\"].apply(isSerie)]"
      ],
      "metadata": {
        "id": "Kbqtj7HO0bM8"
      },
      "execution_count": 22,
      "outputs": []
    },
    {
      "cell_type": "markdown",
      "source": [
        "####Ordenarlas Por Tiempo Visto"
      ],
      "metadata": {
        "id": "b0aucLLk0zue"
      }
    },
    {
      "cell_type": "code",
      "source": [
        "dfSeriesWatchTime = df[df[\"Title\"].apply(isSerie)]  #Aplicamos la función"
      ],
      "metadata": {
        "id": "AgYModle1GUS"
      },
      "execution_count": 23,
      "outputs": []
    },
    {
      "cell_type": "code",
      "source": [
        "allTitlesSeries = dfSeriesWatchTime[\"Title\"]  #Guardamos solamente los títulos"
      ],
      "metadata": {
        "id": "-NWasOsu1Ahj"
      },
      "execution_count": 24,
      "outputs": []
    },
    {
      "cell_type": "code",
      "source": [
        "dfSeriesWatchTime.set_index(\"Title\", inplace = True) #Ponemos el título como nuestro índice"
      ],
      "metadata": {
        "id": "aI-3MWC-1vuY"
      },
      "execution_count": 25,
      "outputs": []
    },
    {
      "cell_type": "code",
      "source": [
        "#Agregamos todos los títulos a un diccionario como índices con value 0\n",
        "titleDurationSeries = {}\n",
        "\n",
        "for title in allTitlesSeries:\n",
        "  titleDurationSeries[title] = 0"
      ],
      "metadata": {
        "id": "ODdkB4eJ2Cz5"
      },
      "execution_count": 26,
      "outputs": []
    },
    {
      "cell_type": "code",
      "source": [
        "#Agregamos todas las duraciones sumadas, en segundos a nuestro diccionario\n",
        "\n",
        "for title in allTitlesSeries.unique(): #Por cada uno de los títulos unicos del df\n",
        "  durTotal = 0\n",
        "  oddDuration = \"\" \n",
        "\n",
        "  for duration in dfSeriesWatchTime.loc[title, \"Duration\"]: #Tomando el Título como índice, buscamos las duraciones\n",
        "     \n",
        "     if len(duration) != 8: #Sí no encontramos una duracion completa\n",
        "       oddDuration += duration #Sumamos el char a oddDuration\n",
        "\n",
        "       if len(oddDuration) == 8: #Una vez que oddDuration cumple con el formato\n",
        "         durTotal += durationToSeconds(oddDuration)\n",
        "         oddDuration = \"\"\n",
        "         titleDurationSeries[title] = durTotal\n",
        "\n",
        "     else: #Si ya contamos con una duracion completa\n",
        "       durTotal += durationToSeconds(duration)\n",
        "       titleDurationSeries[title] = durTotal"
      ],
      "metadata": {
        "id": "XSXdmAW-1aor"
      },
      "execution_count": 27,
      "outputs": []
    },
    {
      "cell_type": "code",
      "source": [
        "#Ordenamos el diccionario de titleDuration de mayor duracion a menor\n",
        "sorted_durs_series = sorted(titleDurationSeries.items(), key=lambda x: x[1], reverse=True)"
      ],
      "metadata": {
        "id": "XKHG8Aj02Mjv"
      },
      "execution_count": 28,
      "outputs": []
    },
    {
      "cell_type": "markdown",
      "source": [
        "####Ordenarlas por ocurrencias"
      ],
      "metadata": {
        "id": "cEM0NCAB4BoS"
      }
    },
    {
      "cell_type": "code",
      "source": [
        "ocurrSeriesVistas = dfSeries[\"Title\"].value_counts() #Guardamos las ocurrencias en una variable"
      ],
      "metadata": {
        "id": "mKjVHNQL4Idh"
      },
      "execution_count": 29,
      "outputs": []
    },
    {
      "cell_type": "code",
      "source": [
        "ocurrSeriesVistas = dict(ocurrSeriesVistas) #Lo pasamos a un diccionario"
      ],
      "metadata": {
        "id": "x2TiCVTF5hre"
      },
      "execution_count": 30,
      "outputs": []
    },
    {
      "cell_type": "markdown",
      "source": [
        "###Generar Lista Top \"N\""
      ],
      "metadata": {
        "id": "2_PR59422lh1"
      }
    },
    {
      "cell_type": "code",
      "source": [
        "N = 5 #Variable top \"N\""
      ],
      "metadata": {
        "id": "hVJWicnF2tU_"
      },
      "execution_count": 31,
      "outputs": []
    },
    {
      "cell_type": "markdown",
      "source": [
        "####i) Por Tiempo Visto"
      ],
      "metadata": {
        "id": "l6d5fQIv257p"
      }
    },
    {
      "cell_type": "code",
      "source": [
        "#Agregamos solamente las top N series por tiempo visto\n",
        "top_tiempo_visto = []\n",
        "count = 0\n",
        "while count < N:\n",
        "  top_tiempo_visto.append(sorted_durs_series[count])\n",
        "  count+=1"
      ],
      "metadata": {
        "id": "QDySYkrp2zu1"
      },
      "execution_count": 32,
      "outputs": []
    },
    {
      "cell_type": "code",
      "source": [
        "top_tiempo_visto"
      ],
      "metadata": {
        "colab": {
          "base_uri": "https://localhost:8080/"
        },
        "id": "6-PSQASV5EUD",
        "outputId": "37252649-d1bf-4f2b-eb54-30adb3248db8"
      },
      "execution_count": 33,
      "outputs": [
        {
          "output_type": "execute_result",
          "data": {
            "text/plain": [
              "[('La ley de los audaces: Temporada 1: Piloto (Partes 1 y 2) (Capítulo 1)',\n",
              "  19496),\n",
              " ('Community: Temporada 6: Espionaje moderno (Capítulo 11)', 16836),\n",
              " ('Doctor Who: Temporada 4: Las aguas de Marte (Capítulo 17)', 11076),\n",
              " ('Community: Temporada 6: Consecuencias emocionales de las transmisiones televisivas (Capítulo 13)',\n",
              "  11074),\n",
              " ('Community: Temporada 6: Temas homosexuales y lustrado avanzado (Capítulo 4)',\n",
              "  10987)]"
            ]
          },
          "metadata": {},
          "execution_count": 33
        }
      ]
    },
    {
      "cell_type": "markdown",
      "source": [
        "####ii) Por ocurrencias"
      ],
      "metadata": {
        "id": "c86MKwRI4Wzu"
      }
    },
    {
      "cell_type": "code",
      "source": [
        "#Agregamos solamente las top N series por ocurrencia\n",
        "top_ocurrencias = []\n",
        "count = 0\n",
        "for series in ocurrSeriesVistas.items():\n",
        "  top_ocurrencias.append(series)\n",
        "  count+=1\n",
        "\n",
        "  if count == N:\n",
        "    break;"
      ],
      "metadata": {
        "id": "7NBPNmFg4wAw"
      },
      "execution_count": 34,
      "outputs": []
    },
    {
      "cell_type": "code",
      "source": [
        "top_ocurrencias"
      ],
      "metadata": {
        "colab": {
          "base_uri": "https://localhost:8080/"
        },
        "id": "aiD5xQzs5ABI",
        "outputId": "3362323d-ef70-4f5f-badd-0ce649602b87"
      },
      "execution_count": 35,
      "outputs": [
        {
          "output_type": "execute_result",
          "data": {
            "text/plain": [
              "[('Community: Temporada 6: Consecuencias emocionales de las transmisiones televisivas (Capítulo 13)',\n",
              "  31),\n",
              " ('Community: Temporada 6: Espionaje moderno (Capítulo 11)', 31),\n",
              " ('Community: Temporada 6: Reparación de vehículos recreativos y quiromancia (Capítulo 10)',\n",
              "  26),\n",
              " ('Community: Temporada 6: Videografía de bodas (Capítulo 12)', 15),\n",
              " ('Brooklyn Nine-Nine: Temporada 3: Los gatitos de Terry (Capítulo 19)', 12)]"
            ]
          },
          "metadata": {},
          "execution_count": 35
        }
      ]
    },
    {
      "cell_type": "markdown",
      "source": [
        "###Graficar"
      ],
      "metadata": {
        "id": "1qBE-SvV8tWW"
      }
    },
    {
      "cell_type": "code",
      "source": [
        "import matplotlib.pyplot as plt\n",
        "import seaborn as sns"
      ],
      "metadata": {
        "id": "0Fn9Hskj8uzg"
      },
      "execution_count": 36,
      "outputs": []
    },
    {
      "cell_type": "markdown",
      "source": [
        "####Por tiempo visto"
      ],
      "metadata": {
        "id": "iAd4Bi_NU7nQ"
      }
    },
    {
      "cell_type": "code",
      "source": [
        "list_tiempo_visto_titles = [] #Creamos una lista vacia para nuestros top \"N\" titulos\n",
        "for i in range(len(top_tiempo_visto)):\n",
        "  list_tiempo_visto_titles.append(top_tiempo_visto[i][0]) #Agregamos los titulos a la lista"
      ],
      "metadata": {
        "id": "c8_YS-8ZM6Px"
      },
      "execution_count": 37,
      "outputs": []
    },
    {
      "cell_type": "code",
      "source": [
        "list_tiempo_visto_duracion = [] #Creamos una lista vacia para nuestros top \"N\" duraciones\n",
        "for i in range(len(top_tiempo_visto)):\n",
        "  list_tiempo_visto_duracion.append(top_tiempo_visto[i][1]) #Agregamos las duraciones a la lista"
      ],
      "metadata": {
        "id": "Za9cRZ5nPB4w"
      },
      "execution_count": 38,
      "outputs": []
    },
    {
      "cell_type": "code",
      "source": [
        "#Graficamos\n",
        "plt.figure(figsize=(25, 10)) #Cambiamos el tamaño de la plot   \n",
        "plt.bar(list_tiempo_visto_titles, list_tiempo_visto_duracion) #Ploteamos un bar tomando nuestras listas como \"x\" - \"y\"\n",
        "\n",
        "plt.xticks( #Rotamos los titulos para que no hagan overlapping\n",
        "    rotation=30, \n",
        "    horizontalalignment='right',\n",
        "    fontweight='light',\n",
        "    fontsize='10'  \n",
        ")\n",
        "\n",
        "plt.xlabel('Titles', fontsize=18) #Labeleamos el eje x\n",
        "plt.ylabel('Duration (s)', fontsize=16) #Labeleamos el eje y\n",
        "plt.title('Top '+ str(N) + ' Según Tiempo Visto',  fontsize=22) #Titulo\n",
        "plt.show()"
      ],
      "metadata": {
        "colab": {
          "base_uri": "https://localhost:8080/",
          "height": 889
        },
        "id": "A59jR0mx9DCx",
        "outputId": "8b95d31f-3d39-4fce-b12a-1d59afc4a7e3"
      },
      "execution_count": 39,
      "outputs": [
        {
          "output_type": "display_data",
          "data": {
            "text/plain": [
              "<Figure size 1800x720 with 1 Axes>"
            ],
            "image/png": "[encoded data removed]"
          },
          "metadata": {
            "needs_background": "light"
          }
        }
      ]
    },
    {
      "cell_type": "markdown",
      "source": [
        "####Por ocurrencias"
      ],
      "metadata": {
        "id": "9-2Y3isHVECo"
      }
    },
    {
      "cell_type": "code",
      "source": [
        "list_ocurrencias_titles = [] #Creamos una lista vacia para nuestros top \"N\" titulos\n",
        "for i in range(len(top_ocurrencias)):\n",
        "  list_ocurrencias_titles.append(top_ocurrencias[i][0]) #Agregamos los titulos a la lista"
      ],
      "metadata": {
        "id": "TBvHih6ZVGPA"
      },
      "execution_count": 40,
      "outputs": []
    },
    {
      "cell_type": "code",
      "source": [
        "list_ocurrencias = [] #Creamos una lista vacia para nuestros top \"N\" ocurrencias\n",
        "for i in range(len(top_ocurrencias)):\n",
        "  list_ocurrencias.append(top_ocurrencias[i][1]) #Agregamos las ocurrencias a la lista"
      ],
      "metadata": {
        "id": "K00plDK_Vhro"
      },
      "execution_count": 41,
      "outputs": []
    },
    {
      "cell_type": "code",
      "source": [
        "#Graficamos\n",
        "plt.figure(figsize=(25, 10)) #Cambiamos el tamaño de la plot   \n",
        "plt.bar(list_ocurrencias_titles, list_ocurrencias) #Ploteamos un bar tomando nuestras listas como \"x\" - \"y\"\n",
        "\n",
        "plt.xticks( #Rotamos los titulos para que no hagan overlapping\n",
        "    rotation=30, \n",
        "    horizontalalignment='right',\n",
        "    fontweight='light',\n",
        "    fontsize='10'  \n",
        ")\n",
        "\n",
        "plt.xlabel('Titles', fontsize=18) #Labeleamos el eje x\n",
        "plt.ylabel('Ocurrencias', fontsize=16) #Labeleamos el eje y\n",
        "plt.title('Top '+ str(N) + ' Según Ocurrencias',  fontsize=22) #Título\n",
        "plt.show()"
      ],
      "metadata": {
        "colab": {
          "base_uri": "https://localhost:8080/",
          "height": 889
        },
        "id": "ODNJ1fxSVuLX",
        "outputId": "d4a3df87-7608-4512-9d46-259dd092b389"
      },
      "execution_count": 42,
      "outputs": [
        {
          "output_type": "display_data",
          "data": {
            "text/plain": [
              "<Figure size 1800x720 with 1 Axes>"
            ],
            "image/png": "[encoded data removed]"
          },
          "metadata": {
            "needs_background": "light"
          }
        }
      ]
    },
    {
      "cell_type": "markdown",
      "source": [
        "##**Ejercicio D**"
      ],
      "metadata": {
        "id": "whHuCy_p9-3I"
      }
    },
    {
      "cell_type": "code",
      "source": [
        "#Function to turn dates into weekdays\n",
        "def whatDay(date): \n",
        "  formated_date = date[0:10]\n",
        "  d = pd.Timestamp(formated_date)\n",
        "  return d.day_name()"
      ],
      "metadata": {
        "id": "8QUoe2q1DcnZ"
      },
      "execution_count": 43,
      "outputs": []
    },
    {
      "cell_type": "code",
      "source": [
        "#Apply the function to our dates, and store in new column\n",
        "dates = df[\"Start Time\"].apply(whatDay)\n",
        "df[\"Week Day\"] = dates.values"
      ],
      "metadata": {
        "id": "mPy1WZRYEdPr"
      },
      "execution_count": 44,
      "outputs": []
    },
    {
      "cell_type": "code",
      "source": [
        "#Get only the hours from dates\n",
        "hours = df[\"Start Time\"].apply(lambda date : date[11:13])\n",
        "df[\"Hour\"] = hours.values"
      ],
      "metadata": {
        "id": "9c4hDpLBH2nK"
      },
      "execution_count": 45,
      "outputs": []
    },
    {
      "cell_type": "code",
      "source": [
        "#Create a pivot to graph values\n",
        "piv = pd.pivot_table(df,index=[\"Hour\"], columns=[\"Week Day\"], fill_value=0)"
      ],
      "metadata": {
        "id": "M2Ils9WbON_c"
      },
      "execution_count": 46,
      "outputs": []
    },
    {
      "cell_type": "code",
      "source": [
        "#Graph with Seaborn heatmap\n",
        "plt.figure(figsize=(10, 10))\n",
        "ax = sns.heatmap(piv, square=True)\n",
        "plt.setp(ax.xaxis.get_majorticklabels(), rotation=90 )\n",
        "plt.tight_layout()\n",
        "plt.show()"
      ],
      "metadata": {
        "colab": {
          "base_uri": "https://localhost:8080/",
          "height": 729
        },
        "id": "5CFnZO04O6-G",
        "outputId": "2110aa14-0177-469c-d4b3-534815e0cacd"
      },
      "execution_count": 47,
      "outputs": [
        {
          "output_type": "display_data",
          "data": {
            "text/plain": [
              "<Figure size 720x720 with 2 Axes>"
            ],
            "image/png": "[encoded data removed]"
          },
          "metadata": {
            "needs_background": "light"
          }
        }
      ]
    },
    {
      "cell_type": "markdown",
      "source": [
        "##**Ejercicio E**"
      ],
      "metadata": {
        "id": "De6eVK5vX_ih"
      }
    },
    {
      "cell_type": "markdown",
      "source": [
        "###Encontrar los títulos vistos por año"
      ],
      "metadata": {
        "id": "6dhz9YInid3_"
      }
    },
    {
      "cell_type": "code",
      "source": [
        "#Función que devuelve unicamente el año de una fecha\n",
        "def sacarAnio(fecha):\n",
        "  anio = \"\"\n",
        "  for year in fecha:\n",
        "    anio += year\n",
        "    if len(anio) == 4: return int(anio)"
      ],
      "metadata": {
        "id": "0X0dgOUZYD2w"
      },
      "execution_count": 48,
      "outputs": []
    },
    {
      "cell_type": "code",
      "source": [
        "titles_viewed_per_year = {} #Creamos un diccionario para agregar año => títulos\n",
        "count = 0\n",
        "cicle_years = sacarAnio(df[\"Start Time\"][0])  #Definimos nuestro año inicial\n",
        "\n",
        "for element in df[\"Start Time\"]:  #Nos fijamos el año de cada elemento del df\n",
        "  count+=1\n",
        "  if sacarAnio(element) != cicle_years or element == min(df[\"Start Time\"]): #Si cambiamos de año o estamos en el último elemento\n",
        "    titles_viewed_per_year[cicle_years] = count #Agregamos la cantidad de elementos que aparecieron al dic con la key del año que ciclamos\n",
        "    count = 1\n",
        "    cicle_years -=1"
      ],
      "metadata": {
        "id": "Bzrkk6RkZHJI"
      },
      "execution_count": 49,
      "outputs": []
    },
    {
      "cell_type": "code",
      "source": [
        "titles_viewed_per_year"
      ],
      "metadata": {
        "colab": {
          "base_uri": "https://localhost:8080/"
        },
        "id": "TcUhHig7gQ4E",
        "outputId": "7dbc7669-d210-4671-9019-abfea5934285"
      },
      "execution_count": 50,
      "outputs": [
        {
          "output_type": "execute_result",
          "data": {
            "text/plain": [
              "{2022: 295,\n",
              " 2021: 723,\n",
              " 2020: 1017,\n",
              " 2019: 551,\n",
              " 2018: 917,\n",
              " 2017: 796,\n",
              " 2016: 808,\n",
              " 2015: 1191}"
            ]
          },
          "metadata": {},
          "execution_count": 50
        }
      ]
    },
    {
      "cell_type": "markdown",
      "source": [
        "###Graficar la cantidad de títulos en función de los años"
      ],
      "metadata": {
        "id": "qiIPp2KSiiNf"
      }
    },
    {
      "cell_type": "code",
      "source": [
        "list_anios = list(titles_viewed_per_year)                    #Creamos una lista para nuestros años de visualización\n",
        "list_cant_de_titulos = list(titles_viewed_per_year.values()) #Creamos una lista para nuestros titulos totales"
      ],
      "metadata": {
        "id": "oxNCZdMKk8FI"
      },
      "execution_count": 51,
      "outputs": []
    },
    {
      "cell_type": "code",
      "source": [
        "plt.plot(list_anios, list_cant_de_titulos, color='green', linestyle ='dashed', linewidth = 3, marker = 'o', markerfacecolor='blue', markersize =12)"
      ],
      "metadata": {
        "colab": {
          "base_uri": "https://localhost:8080/",
          "height": 282
        },
        "id": "_b08F_Q84unZ",
        "outputId": "20337519-efc9-4e7e-c814-703eaf672578"
      },
      "execution_count": 52,
      "outputs": [
        {
          "output_type": "execute_result",
          "data": {
            "text/plain": [
              "[<matplotlib.lines.Line2D at 0x7fa18ef61350>]"
            ]
          },
          "metadata": {},
          "execution_count": 52
        },
        {
          "output_type": "display_data",
          "data": {
            "text/plain": [
              "<Figure size 432x288 with 1 Axes>"
            ],
            "image/png": "[encoded data removed]"
          },
          "metadata": {
            "needs_background": "light"
          }
        }
      ]
    },
    {
      "cell_type": "markdown",
      "source": [
        "##**Ejercicio F**"
      ],
      "metadata": {
        "id": "aXnG7qlG5k3b"
      }
    },
    {
      "cell_type": "code",
      "source": [
        "total_de_segundos_viendo = sum(df[\"Duration\"].apply(durationToSeconds)) #Sumamos todas las duraciones pasadas a segundos"
      ],
      "metadata": {
        "id": "LUkc0BNd5nmV"
      },
      "execution_count": 53,
      "outputs": []
    },
    {
      "cell_type": "code",
      "source": [
        "total_dias_viendo = total_de_segundos_viendo / 86400 #Dividimos el total por 86400 para ver cuantos días hay"
      ],
      "metadata": {
        "id": "IZNrG-NW6O6_"
      },
      "execution_count": 54,
      "outputs": []
    },
    {
      "cell_type": "code",
      "source": [
        "print(\"En total Chona vició netflix por\" , int(total_dias_viendo), \"días enteros.\") #Mostramos el resultado"
      ],
      "metadata": {
        "colab": {
          "base_uri": "https://localhost:8080/"
        },
        "id": "yqJ-QIIH6j-Z",
        "outputId": "5ece7de7-ad98-4dc5-cc95-cf42c006923a"
      },
      "execution_count": 55,
      "outputs": [
        {
          "output_type": "stream",
          "name": "stdout",
          "text": [
            "En total Chona vició netflix por 99 días enteros.\n"
          ]
        }
      ]
    },
    {
      "cell_type": "markdown",
      "source": [
        "##**BONUS**"
      ],
      "metadata": {
        "id": "lLcowo327qDC"
      }
    },
    {
      "cell_type": "markdown",
      "source": [
        "###Ejercicio 1."
      ],
      "metadata": {
        "id": "yPZIzvoW7sjv"
      }
    },
    {
      "cell_type": "code",
      "source": [
        "def isStarWars(title):  #Función para filtrar solamente pelis de Star Wars\n",
        "  if \"Star Wars:\" in title:\n",
        "    return True\n",
        "  return False"
      ],
      "metadata": {
        "id": "EHtbmG5S7r0r"
      },
      "execution_count": 56,
      "outputs": []
    },
    {
      "cell_type": "code",
      "source": [
        "#Aplicamos la función al df y lo guardamos en uno nuevo\n",
        "dfPelis = df[df[\"Title\"].apply(isMovie)] \n",
        "dfStarWars = dfPelis[dfPelis[\"Title\"].apply(isStarWars)]"
      ],
      "metadata": {
        "id": "N2zTAz1n8W71"
      },
      "execution_count": 57,
      "outputs": []
    },
    {
      "cell_type": "code",
      "source": [
        "for title in dfStarWars['Title'].unique():  #Por cada título en el dataFrame, sumamos todos sus duraciones pasadas a segundos y las guardamos en un dict\n",
        "  starWars_duration = {title:sum(dfStarWars[dfStarWars[\"Title\"] == title][\"Duration\"].apply(durationToSeconds)) for title in dfStarWars[\"Title\"].unique()}"
      ],
      "metadata": {
        "id": "5buJU_-x8qfS"
      },
      "execution_count": 58,
      "outputs": []
    },
    {
      "cell_type": "code",
      "source": [
        "starWars_mas_vista =sorted(starWars_duration)[0]  #Guardamos la peli más vista"
      ],
      "metadata": {
        "id": "SLSMdaajUgKv"
      },
      "execution_count": 59,
      "outputs": []
    },
    {
      "cell_type": "code",
      "source": [
        "print('La película de Star Wars que más vió Chona por duración fue' , starWars_mas_vista, 'con', starWars_duration[starWars_mas_vista], 'segundos') #Printeamos resultados"
      ],
      "metadata": {
        "colab": {
          "base_uri": "https://localhost:8080/"
        },
        "id": "g8oSSZujVGnw",
        "outputId": "0088303b-8473-4f46-d646-058e421e2d8b"
      },
      "execution_count": 60,
      "outputs": [
        {
          "output_type": "stream",
          "name": "stdout",
          "text": [
            "La película de Star Wars que más vió Chona por duración fue Star Wars: El Imperio contraataca con 29433 segundos\n"
          ]
        }
      ]
    },
    {
      "cell_type": "markdown",
      "source": [
        "###Ejercicio 2."
      ],
      "metadata": {
        "id": "I2NXRyKgWQpH"
      }
    },
    {
      "cell_type": "markdown",
      "source": [
        "####Install Packages"
      ],
      "metadata": {
        "id": "bYRHuXpNcd0H"
      }
    },
    {
      "cell_type": "code",
      "source": [
        "!pip install cinemagoer"
      ],
      "metadata": {
        "colab": {
          "base_uri": "https://localhost:8080/"
        },
        "id": "RGelweWSWSIJ",
        "outputId": "bb3456b0-a752-4607-f3a2-dda3103cf11d"
      },
      "execution_count": 61,
      "outputs": [
        {
          "output_type": "stream",
          "name": "stdout",
          "text": [
            "Looking in indexes: https://pypi.org/simple, https://us-python.pkg.dev/colab-wheels/public/simple/\n",
            "Collecting cinemagoer\n",
            "  Downloading cinemagoer-2022.2.11-py3-none-any.whl (301 kB)\n",
            "\u001b[?25l\r\u001b[K     |█                               | 10 kB 27.2 MB/s eta 0:00:01\r\u001b[K     |██▏                             | 20 kB 10.0 MB/s eta 0:00:01\r\u001b[K     |███▎                            | 30 kB 13.9 MB/s eta 0:00:01\r\u001b[K     |████▍                           | 40 kB 8.6 MB/s eta 0:00:01\r\u001b[K     |█████▍                          | 51 kB 7.7 MB/s eta 0:00:01\r\u001b[K     |██████▌                         | 61 kB 9.1 MB/s eta 0:00:01\r\u001b[K     |███████▋                        | 71 kB 9.6 MB/s eta 0:00:01\r\u001b[K     |████████▊                       | 81 kB 10.6 MB/s eta 0:00:01\r\u001b[K     |█████████▉                      | 92 kB 9.0 MB/s eta 0:00:01\r\u001b[K     |██████████▉                     | 102 kB 9.6 MB/s eta 0:00:01\r\u001b[K     |████████████                    | 112 kB 9.6 MB/s eta 0:00:01\r\u001b[K     |█████████████                   | 122 kB 9.6 MB/s eta 0:00:01\r\u001b[K     |██████████████▏                 | 133 kB 9.6 MB/s eta 0:00:01\r\u001b[K     |███████████████▏                | 143 kB 9.6 MB/s eta 0:00:01\r\u001b[K     |████████████████▎               | 153 kB 9.6 MB/s eta 0:00:01\r\u001b[K     |█████████████████▍              | 163 kB 9.6 MB/s eta 0:00:01\r\u001b[K     |██████████████████▌             | 174 kB 9.6 MB/s eta 0:00:01\r\u001b[K     |███████████████████▋            | 184 kB 9.6 MB/s eta 0:00:01\r\u001b[K     |████████████████████▋           | 194 kB 9.6 MB/s eta 0:00:01\r\u001b[K     |█████████████████████▊          | 204 kB 9.6 MB/s eta 0:00:01\r\u001b[K     |██████████████████████▉         | 215 kB 9.6 MB/s eta 0:00:01\r\u001b[K     |████████████████████████        | 225 kB 9.6 MB/s eta 0:00:01\r\u001b[K     |█████████████████████████       | 235 kB 9.6 MB/s eta 0:00:01\r\u001b[K     |██████████████████████████      | 245 kB 9.6 MB/s eta 0:00:01\r\u001b[K     |███████████████████████████▏    | 256 kB 9.6 MB/s eta 0:00:01\r\u001b[K     |████████████████████████████▎   | 266 kB 9.6 MB/s eta 0:00:01\r\u001b[K     |█████████████████████████████▍  | 276 kB 9.6 MB/s eta 0:00:01\r\u001b[K     |██████████████████████████████▍ | 286 kB 9.6 MB/s eta 0:00:01\r\u001b[K     |███████████████████████████████▌| 296 kB 9.6 MB/s eta 0:00:01\r\u001b[K     |████████████████████████████████| 301 kB 9.6 MB/s \n",
            "\u001b[?25hRequirement already satisfied: SQLAlchemy in /usr/local/lib/python3.7/dist-packages (from cinemagoer) (1.4.40)\n",
            "Requirement already satisfied: lxml in /usr/local/lib/python3.7/dist-packages (from cinemagoer) (4.9.1)\n",
            "Requirement already satisfied: greenlet!=0.4.17 in /usr/local/lib/python3.7/dist-packages (from SQLAlchemy->cinemagoer) (1.1.3)\n",
            "Requirement already satisfied: importlib-metadata in /usr/local/lib/python3.7/dist-packages (from SQLAlchemy->cinemagoer) (4.12.0)\n",
            "Requirement already satisfied: typing-extensions>=3.6.4 in /usr/local/lib/python3.7/dist-packages (from importlib-metadata->SQLAlchemy->cinemagoer) (4.1.1)\n",
            "Requirement already satisfied: zipp>=0.5 in /usr/local/lib/python3.7/dist-packages (from importlib-metadata->SQLAlchemy->cinemagoer) (3.8.1)\n",
            "Installing collected packages: cinemagoer\n",
            "Successfully installed cinemagoer-2022.2.11\n"
          ]
        }
      ]
    },
    {
      "cell_type": "code",
      "source": [
        "import imdb\n",
        "from PIL import Image\n",
        "import requests\n",
        "from io import BytesIO\n",
        "\n",
        "ia = imdb.Cinemagoer()"
      ],
      "metadata": {
        "id": "PQIFWWgeXajS"
      },
      "execution_count": 62,
      "outputs": []
    },
    {
      "cell_type": "markdown",
      "source": [
        "####Mostrar Poster Peli Mas Vista"
      ],
      "metadata": {
        "id": "1EyfAOHfciEf"
      }
    },
    {
      "cell_type": "code",
      "source": [
        "topMovieList = ia.search_movie('Star Wars: El Imperio contraataca') #Buscamos el título con la api\n",
        "topMovie = topMovieList[0]  #Como devuelve una lista, guardamos solamente la primera"
      ],
      "metadata": {
        "id": "Li79RWJBX3bX"
      },
      "execution_count": 125,
      "outputs": []
    },
    {
      "cell_type": "code",
      "source": [
        "#Agarramos la cover-url de nuestra pelicula y la mostramos con PIL\n",
        "response = requests.get(topMovie['cover url'])\n",
        "topMovieImg = Image.open(BytesIO(response.content))"
      ],
      "metadata": {
        "id": "XpLLcSbFZKOP"
      },
      "execution_count": 126,
      "outputs": []
    },
    {
      "cell_type": "code",
      "source": [
        "topMovieImg"
      ],
      "metadata": {
        "colab": {
          "base_uri": "https://localhost:8080/",
          "height": 61
        },
        "id": "k5aheV23Zk3n",
        "outputId": "f410ef33-800d-4f47-dae4-8fd7eb98f906"
      },
      "execution_count": 127,
      "outputs": [
        {
          "output_type": "execute_result",
          "data": {
            "text/plain": [
              "<PIL.JpegImagePlugin.JpegImageFile image mode=RGB size=32x44 at 0x7FA18CD5BF90>"
            ],
            "image/png": "[encoded data removed]"
          },
          "metadata": {},
          "execution_count": 127
        }
      ]
    },
    {
      "cell_type": "markdown",
      "source": [
        "####Mostrar Poster Series Mas Vista"
      ],
      "metadata": {
        "id": "6aW-1AUrclYG"
      }
    },
    {
      "cell_type": "code",
      "source": [
        "topSerieList = ia.search_movie('Community') #Buscamos el título con la api\n",
        "topSeries = topSerieList[0] #Como devuelve una lista, guardamos solamente la primera"
      ],
      "metadata": {
        "id": "nReDYYXIc212"
      },
      "execution_count": 128,
      "outputs": []
    },
    {
      "cell_type": "code",
      "source": [
        "#Agarramos la cover-url de nuestra pelicula y la mostramos con PIL\n",
        "response = requests.get(topSeries['cover url'])\n",
        "topSeriesImg = Image.open(BytesIO(response.content))"
      ],
      "metadata": {
        "id": "CGDs972IdEYI"
      },
      "execution_count": 129,
      "outputs": []
    },
    {
      "cell_type": "code",
      "source": [
        "topSeriesImg"
      ],
      "metadata": {
        "colab": {
          "base_uri": "https://localhost:8080/",
          "height": 61
        },
        "id": "4Vmnt7CidL93",
        "outputId": "2cf06ddc-fa9f-4b99-9690-2916f28abe22"
      },
      "execution_count": 130,
      "outputs": [
        {
          "output_type": "execute_result",
          "data": {
            "text/plain": [
              "<PIL.JpegImagePlugin.JpegImageFile image mode=RGB size=32x44 at 0x7FA18C39A910>"
            ],
            "image/png": "[encoded data removed]"
          },
          "metadata": {},
          "execution_count": 130
        }
      ]
    },
    {
      "cell_type": "markdown",
      "source": [
        "####Mostrar Género Mas Visto"
      ],
      "metadata": {
        "id": "-Q-PY4Kidrfu"
      }
    },
    {
      "cell_type": "code",
      "source": [
        "allGenres = {}\n",
        "count = 0\n",
        "for title in dfPelis[\"Title\"]:\n",
        "  #Retrive 'movie' from the api\n",
        "  movieLists = ia.search_movie(title)\n",
        "  \n",
        "  if movieLists != []:  #Check if it is a valid title\n",
        "    movie = movieLists[0]\n",
        "    \n",
        "    #Find movie genre\n",
        "    movieData = ia.get_movie(movie.movieID)\n",
        "    try:  #Test if the title has a genre\n",
        "      genre = movieData.data['genres']  \n",
        "      for genres in genre:\n",
        "        if genres not in allGenres:\n",
        "          allGenres[genres] = 0\n",
        "        allGenres[genres] += 1\n",
        "\n",
        "    except KeyError as ke:\n",
        "      print('No genre')"
      ],
      "metadata": {
        "colab": {
          "base_uri": "https://localhost:8080/"
        },
        "id": "exqLKZn7fonO",
        "outputId": "e88a128c-d967-4c76-eb7a-5589478e5040"
      },
      "execution_count": 115,
      "outputs": [
        {
          "output_type": "stream",
          "name": "stdout",
          "text": [
            "No genre\n",
            "No genre\n",
            "No genre\n",
            "No genre\n",
            "No genre\n",
            "No genre\n",
            "No genre\n"
          ]
        }
      ]
    },
    {
      "cell_type": "code",
      "source": [
        "allGenres #Mostrar todos los géneros"
      ],
      "metadata": {
        "colab": {
          "base_uri": "https://localhost:8080/"
        },
        "id": "uoKVYlmdQVcE",
        "outputId": "846deeee-65f8-4ca0-a0f9-a34ea47bcbf4"
      },
      "execution_count": 123,
      "outputs": [
        {
          "output_type": "execute_result",
          "data": {
            "text/plain": [
              "{'Drama': 87,\n",
              " 'Mystery': 25,\n",
              " 'Talk-Show': 4,\n",
              " 'Action': 86,\n",
              " 'Crime': 39,\n",
              " 'Music': 10,\n",
              " 'Thriller': 46,\n",
              " 'Adventure': 87,\n",
              " 'Sci-Fi': 85,\n",
              " 'Comedy': 158,\n",
              " 'Fantasy': 45,\n",
              " 'Romance': 41,\n",
              " 'Biography': 19,\n",
              " 'Short': 3,\n",
              " 'Western': 1,\n",
              " 'Animation': 15,\n",
              " 'Family': 38,\n",
              " 'Documentary': 19,\n",
              " 'Sport': 16,\n",
              " 'History': 6,\n",
              " 'War': 8,\n",
              " 'Horror': 2}"
            ]
          },
          "metadata": {},
          "execution_count": 123
        }
      ]
    },
    {
      "cell_type": "code",
      "source": [
        "print('El género que más mira Chona es Comedy')"
      ],
      "metadata": {
        "colab": {
          "base_uri": "https://localhost:8080/"
        },
        "id": "vBahyYvZK48v",
        "outputId": "c5dc2891-d09b-4cb1-eee3-9c161222b8ed"
      },
      "execution_count": 124,
      "outputs": [
        {
          "output_type": "stream",
          "name": "stdout",
          "text": [
            "El género que más mira Chona es Comedy\n"
          ]
        }
      ]
    }
  ]
}